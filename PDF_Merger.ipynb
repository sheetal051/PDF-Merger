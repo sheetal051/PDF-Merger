{
  "nbformat": 4,
  "nbformat_minor": 0,
  "metadata": {
    "colab": {
      "provenance": [],
      "authorship_tag": "ABX9TyMgDwzecWqOoY1hxS6sFWXL",
      "include_colab_link": true
    },
    "kernelspec": {
      "name": "python3",
      "display_name": "Python 3"
    },
    "language_info": {
      "name": "python"
    }
  },
  "cells": [
    {
      "cell_type": "markdown",
      "metadata": {
        "id": "view-in-github",
        "colab_type": "text"
      },
      "source": [
        "<a href=\"https://colab.research.google.com/github/sheetal051/PDF-Merger/blob/main/PDF_Merger.ipynb\" target=\"_parent\"><img src=\"https://colab.research.google.com/assets/colab-badge.svg\" alt=\"Open In Colab\"/></a>"
      ]
    },
    {
      "cell_type": "code",
      "execution_count": 1,
      "metadata": {
        "colab": {
          "base_uri": "https://localhost:8080/"
        },
        "id": "GJLxjIVJDzFz",
        "outputId": "52b8b35a-1f34-4eea-ba03-7e960e744918"
      },
      "outputs": [
        {
          "output_type": "stream",
          "name": "stdout",
          "text": [
            "Collecting PyPDF2\n",
            "  Downloading pypdf2-3.0.1-py3-none-any.whl.metadata (6.8 kB)\n",
            "Downloading pypdf2-3.0.1-py3-none-any.whl (232 kB)\n",
            "\u001b[?25l   \u001b[90m━━━━━━━━━━━━━━━━━━━━━━━━━━━━━━━━━━━━━━━━\u001b[0m \u001b[32m0.0/232.6 kB\u001b[0m \u001b[31m?\u001b[0m eta \u001b[36m-:--:--\u001b[0m\r\u001b[2K   \u001b[90m━━━━━━━━━━━━━━━━━━━━━━━━━━━━━━━━━━━━━━━━\u001b[0m \u001b[32m232.6/232.6 kB\u001b[0m \u001b[31m7.6 MB/s\u001b[0m eta \u001b[36m0:00:00\u001b[0m\n",
            "\u001b[?25hInstalling collected packages: PyPDF2\n",
            "Successfully installed PyPDF2-3.0.1\n"
          ]
        }
      ],
      "source": [
        "!pip install PyPDF2"
      ]
    },
    {
      "cell_type": "code",
      "source": [
        "import PyPDF2\n",
        "import os\n",
        "\n",
        "def merge_pdfs(input_pdfs, output_pdf):\n",
        "    pdf_writer = PyPDF2.PdfWriter()\n",
        "\n",
        "    for input_pdf in input_pdfs:\n",
        "        # Check if the file exists before trying to open it\n",
        "        if not os.path.exists(input_pdf):\n",
        "            print(f\"Error: Input file not found at {input_pdf}\")\n",
        "            continue # Skip to the next file if not found\n",
        "\n",
        "        try:\n",
        "            with open(input_pdf, 'rb') as pdf_file:\n",
        "                pdf_reader = PyPDF2.PdfReader(pdf_file)\n",
        "                num_pages = len(pdf_reader.pages)\n",
        "\n",
        "                for page in range(num_pages):\n",
        "                    pdf_writer.add_page(pdf_reader.pages[page])\n",
        "        except Exception as e:\n",
        "            print(f\"An error occurred while processing {input_pdf}: {e}\")\n",
        "\n",
        "\n",
        "    with open(output_pdf, 'wb') as output_file:\n",
        "        pdf_writer.write(output_file)\n",
        "\n",
        "# --- Start: Code to create dummy PDF files for demonstration ---\n",
        "# You should replace this part with code to handle file uploads or ensure your files are in the correct path.\n",
        "if not os.path.exists(\"/content/part1.pdf\"):\n",
        "    with open(\"/content/part1.pdf\", \"wb\") as f:\n",
        "        # Create a simple dummy PDF content (requires reportlab)\n",
        "        try:\n",
        "            from reportlab.pdfgen import canvas\n",
        "            c = canvas.Canvas(\"/content/part1.pdf\")\n",
        "            c.drawString(100, 750, \"This is part 1.\")\n",
        "            c.save()\n",
        "            print(\"Created dummy file: /content/part1.pdf\")\n",
        "        except ImportError:\n",
        "            print(\"Could not create dummy PDF file. Install reportlab: !pip install reportlab\")\n",
        "            print(\"Please upload 'part1.pdf' to /content/\")\n",
        "\n",
        "if not os.path.exists(\"/content/part2.pdf\"):\n",
        "    with open(\"/content/part2.pdf\", \"wb\") as f:\n",
        "        # Create a simple dummy PDF content (requires reportlab)\n",
        "        try:\n",
        "            from reportlab.pdfgen import canvas\n",
        "            c = canvas.Canvas(\"/content/part2.pdf\")\n",
        "            c.drawString(100, 750, \"This is part 2.\")\n",
        "            c.save()\n",
        "            print(\"Created dummy file: /content/part2.pdf\")\n",
        "        except ImportError:\n",
        "            print(\"Could not create dummy PDF file. Install reportlab: !pip install reportlab\")\n",
        "            print(\"Please upload 'part2.pdf' to /content/\")\n",
        "# --- End: Code to create dummy PDF files for demonstration ---\n",
        "\n",
        "\n",
        "# Example usage:\n",
        "input_pdfs = [\"/content/part1.pdf\", \"/content/part2.pdf\"]\n",
        "output_pdf = \"output.pdf\"\n",
        "merge_pdfs(input_pdfs, output_pdf)\n",
        "print(f\"PDFs merged into {output_pdf}\")"
      ],
      "metadata": {
        "colab": {
          "base_uri": "https://localhost:8080/"
        },
        "id": "GXfRwwxpD3Xy",
        "outputId": "e6fc918a-61d6-4b57-a631-1a28fcbef44e"
      },
      "execution_count": 3,
      "outputs": [
        {
          "output_type": "stream",
          "name": "stdout",
          "text": [
            "Could not create dummy PDF file. Install reportlab: !pip install reportlab\n",
            "Please upload 'part1.pdf' to /content/\n",
            "Could not create dummy PDF file. Install reportlab: !pip install reportlab\n",
            "Please upload 'part2.pdf' to /content/\n",
            "An error occurred while processing /content/part1.pdf: Cannot read an empty file\n",
            "An error occurred while processing /content/part2.pdf: Cannot read an empty file\n",
            "PDFs merged into output.pdf\n"
          ]
        }
      ]
    }
  ]
}